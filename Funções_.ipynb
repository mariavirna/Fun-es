{
  "nbformat": 4,
  "nbformat_minor": 0,
  "metadata": {
    "colab": {
      "provenance": [],
      "authorship_tag": "ABX9TyNU3zKAeZWd2TL/MCJkEZjF",
      "include_colab_link": true
    },
    "kernelspec": {
      "name": "python3",
      "display_name": "Python 3"
    },
    "language_info": {
      "name": "python"
    }
  },
  "cells": [
    {
      "cell_type": "markdown",
      "metadata": {
        "id": "view-in-github",
        "colab_type": "text"
      },
      "source": [
        "<a href=\"https://colab.research.google.com/github/mariavirna/Fun-es/blob/main/Fun%C3%A7%C3%B5es_.ipynb\" target=\"_parent\"><img src=\"https://colab.research.google.com/assets/colab-badge.svg\" alt=\"Open In Colab\"/></a>"
      ]
    },
    {
      "cell_type": "code",
      "execution_count": 3,
      "metadata": {
        "colab": {
          "base_uri": "https://localhost:8080/"
        },
        "id": "CwLkbvGxBme5",
        "outputId": "1814104f-99a5-4467-8549-e9e6c298dda1"
      },
      "outputs": [
        {
          "output_type": "execute_result",
          "data": {
            "text/plain": [
              "22.857142857142858"
            ]
          },
          "metadata": {},
          "execution_count": 3
        }
      ],
      "source": [
        "# 1) Crie uma função chamada calcula_imc(peso=70, altura=1.75) que retorne o valor do IMC. (Fórmula: peso / altura²).\n",
        "def calcula_imc(peso=70, altura=1.75):\n",
        "  return peso / (altura ** 2)\n",
        "calcula_imc()"
      ]
    },
    {
      "cell_type": "code",
      "source": [
        "# 2) Dado uma lista chamada alturas com os seguintes elementos:\n",
        "alturas = [45, 23, 67, 12, 11, 89, 23, 41, 50, 62, 78, 34, 56, 19, 72, 88, 11,\n",
        "           90, 39, 65, 76, 27, 48, 59, 81, 14, 11, 93, 3, 68, 29, 52, 74, 16,\n",
        "           85, 20, 55, 38, 69, 11, 83, 7, 44, 61, 18, 96, 22, 58, 31, 71, 40,\n",
        "           53, 87, 31]\n",
        "print(alturas)"
      ],
      "metadata": {
        "colab": {
          "base_uri": "https://localhost:8080/"
        },
        "id": "XaEdnv5dC5sr",
        "outputId": "7b7a8848-360b-4bbc-83fc-7862cd12520f"
      },
      "execution_count": 7,
      "outputs": [
        {
          "output_type": "stream",
          "name": "stdout",
          "text": [
            "[45, 23, 67, 12, 11, 89, 23, 41, 50, 62, 78, 34, 56, 19, 72, 88, 11, 90, 39, 65, 76, 27, 48, 59, 81, 14, 11, 93, 3, 68, 29, 52, 74, 16, 85, 20, 55, 38, 69, 11, 83, 7, 44, 61, 18, 96, 22, 58, 31, 71, 40, 53, 87, 31]\n"
          ]
        }
      ]
    },
    {
      "cell_type": "code",
      "source": [
        "# Utilize as funções padrão do Python para calcular e exibir:\n",
        "# O maior valor do conjunto de dados\n",
        "print(\"Maior valor:\", max(alturas))\n",
        "\n",
        "# O menor valor do conjunto de dados;\n",
        "print(\"Menor valor:\", min(alturas))\n",
        "\n",
        "# A soma de todos os valores;\n",
        "print(\"Soma dos valores:\", sum(alturas))\n",
        "\n",
        "# O valor absoluto de um número negativo (-25);\n",
        "print(\"Valor absoluto de -25:\", abs(-25))\n",
        "\n",
        "# O arredondamento do número 3.14159 para 2 casas decimais.\n",
        "print(\"Arredondamento de 3.14159:\", round(3.14159, 2))"
      ],
      "metadata": {
        "colab": {
          "base_uri": "https://localhost:8080/"
        },
        "id": "2ZAi74WRNl2L",
        "outputId": "b5d3dce2-7e32-46b4-f63a-1b9ebdf982f3"
      },
      "execution_count": 9,
      "outputs": [
        {
          "output_type": "stream",
          "name": "stdout",
          "text": [
            "Maior valor: 96\n",
            "Menor valor: 3\n",
            "Soma dos valores: 2606\n",
            "Valor absoluto de -25: 25\n",
            "Arredondamento de 3.14159: 3.14\n"
          ]
        }
      ]
    },
    {
      "cell_type": "code",
      "source": [
        "# Utilize as funções do módulo statistics para calcular e exibir:\n",
        "from statistics import *\n",
        "\n",
        "# A média dos dados\n",
        "print(\"Média:\", mean(alturas))\n",
        "\n",
        "# A mediana dos dados\n",
        "print(\"Mediana:\", median(alturas))\n",
        "\n",
        "# A moda dos dados\n",
        "print(\"Moda:\", mode(alturas))\n",
        "\n",
        "# A variância da amostra dos dados\n",
        "print(\"Variância:\", variance(alturas))\n",
        "\n",
        "# O desvio padrão da amostra dos dados\n",
        "print(\"Desvio padrão:\", stdev(alturas))"
      ],
      "metadata": {
        "colab": {
          "base_uri": "https://localhost:8080/"
        },
        "id": "lMp-z3obP8nV",
        "outputId": "fcc79867-c044-401d-b1f5-ec3cac3014e5"
      },
      "execution_count": 11,
      "outputs": [
        {
          "output_type": "stream",
          "name": "stdout",
          "text": [
            "Média: 48.25925925925926\n",
            "Mediana: 49.0\n",
            "Moda: 11\n",
            "Variância: 741.1013277428372\n",
            "Desvio padrão: 27.223176297831913\n"
          ]
        }
      ]
    },
    {
      "cell_type": "code",
      "source": [
        "# 3) Crie duas matrizes aleatórias:\n",
        "# Uma matriz 5x10 de números float aleatórios entre 0 e 1.\n",
        "from numpy import *\n",
        "a = random.random((5, 10))\n",
        "print(type(a))\n",
        "print(a)\n",
        "\n",
        "# Uma matriz 8x4 de números inteiros aleatórios entre 0 e 9.\n",
        "b = random.randint(10, size=(8, 4))\n",
        "print(type(b))\n",
        "print(b)"
      ],
      "metadata": {
        "colab": {
          "base_uri": "https://localhost:8080/"
        },
        "id": "nZDzmoeXRgPw",
        "outputId": "a5795d5c-9017-47b3-fc1a-07d580d7ed28"
      },
      "execution_count": 12,
      "outputs": [
        {
          "output_type": "stream",
          "name": "stdout",
          "text": [
            "<class 'numpy.ndarray'>\n",
            "[[0.14786896 0.20455148 0.16417282 0.19349107 0.8151545  0.5264438\n",
            "  0.58879506 0.8741794  0.24213852 0.85546648]\n",
            " [0.17513627 0.06402572 0.94011229 0.10899267 0.55701096 0.01007043\n",
            "  0.51814896 0.69288674 0.26812276 0.25383344]\n",
            " [0.13996613 0.15077173 0.78554683 0.84960311 0.65378837 0.78546376\n",
            "  0.05001504 0.90281379 0.53516093 0.88557902]\n",
            " [0.1929836  0.69121844 0.77658144 0.69452798 0.74581368 0.40596892\n",
            "  0.9813533  0.10218463 0.50104933 0.60841192]\n",
            " [0.56876436 0.890918   0.37843296 0.1641459  0.64357198 0.81612694\n",
            "  0.64402162 0.3898135  0.06667776 0.87978044]]\n",
            "<class 'numpy.ndarray'>\n",
            "[[2 5 4 0]\n",
            " [5 6 5 9]\n",
            " [6 0 2 0]\n",
            " [9 5 0 2]\n",
            " [4 9 9 2]\n",
            " [9 3 4 8]\n",
            " [5 5 4 6]\n",
            " [0 6 7 5]]\n"
          ]
        }
      ]
    }
  ]
}